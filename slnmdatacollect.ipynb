{
 "cells": [
  {
   "cell_type": "code",
   "execution_count": 37,
   "metadata": {},
   "outputs": [],
   "source": [
    "from selenium import webdriver\n",
    "from selenium.webdriver.common.by import By"
   ]
  },
  {
   "cell_type": "code",
   "execution_count": 38,
   "metadata": {},
   "outputs": [],
   "source": [
    "driver = webdriver.Chrome()"
   ]
  },
  {
   "cell_type": "code",
   "execution_count": 39,
   "metadata": {},
   "outputs": [],
   "source": [
    "driver.get(\"https://www.playbill.com/production/gross?production=00000150-aea5-d936-a7fd-eef572240001\")"
   ]
  },
  {
   "cell_type": "code",
   "execution_count": 40,
   "metadata": {},
   "outputs": [],
   "source": [
    "col0 = driver.find_elements(by = By.CLASS_NAME, value = \"col-0\")\n",
    "col1 = driver.find_elements(by = By.CLASS_NAME, value = \"col-3\")\n",
    "col2 = driver.find_elements(by = By.CLASS_NAME, value = \"col-4\")"
   ]
  },
  {
   "cell_type": "code",
   "execution_count": 41,
   "metadata": {},
   "outputs": [],
   "source": [
    "def check_elements(iter1):\n",
    "    for e in iter1:\n",
    "        print(e.text)\n",
    "    print(len(iter1))"
   ]
  },
  {
   "cell_type": "code",
   "execution_count": 42,
   "metadata": {},
   "outputs": [],
   "source": [
    "# # For checking the structuring of the elements which have been scraped\n",
    "# check_elements(col0)\n",
    "# check_elements(col1)\n",
    "# check_elements(col2)"
   ]
  },
  {
   "cell_type": "markdown",
   "metadata": {},
   "source": [
    "Conclusion: \n",
    "1. col0 starts with column name and continues with column values. Can be used as is, except that column header should be sliced out.\n",
    "2. col1 starts with a column name, which is, however, a wrong label for the data, the html source for the website has repeated a class \"col-1\" twice. Thus, the column is actually \"Avg Ticket - Top Ticket\" and the text under it should be split into 2 different columns.\n",
    "3. col2 is similar to col1, and the column name is also wrong, it should be - \"Seats sold - Seats in theatre.\" The second column value is seen to remain mostly constant and might be truncated because it doesn't provide any additional insight."
   ]
  },
  {
   "cell_type": "code",
   "execution_count": 43,
   "metadata": {},
   "outputs": [
    {
     "name": "stdout",
     "output_type": "stream",
     "text": [
      "53\n",
      "51\n",
      "51\n",
      "$126.63 $199.00\n",
      "$134.30 $199.00\n",
      "$153.37 $199.00\n",
      "$118.96 $199.00\n",
      "13,517 1,696\n",
      "13,471 1,696\n",
      "13,231 1,696\n",
      "12,973 1,696\n"
     ]
    }
   ],
   "source": [
    "i = 1\n",
    "dfcol1 = [] \n",
    "dfcol2 = []\n",
    "dfcol3 = []\n",
    "dfcol4 = []\n",
    "for x, y in zip(col1[1:], col2[2:]):\n",
    "    l1, l2 = x.text.split('\\n'), y.text.split('\\n')\n",
    "    dfcol1.append(l1[0])\n",
    "    dfcol2.append(l1[1])\n",
    "    dfcol3.append(l2[0])\n",
    "    dfcol4.append(l2[1])\n",
    "\n",
    "print(len(col0))\n",
    "print(len(dfcol1))\n",
    "print(len(dfcol3))\n",
    "for e1, e2 in zip(dfcol1[-5:-1], dfcol2[-5:-1]):\n",
    "    print(e1, e2)\n",
    "for e1, e2 in zip(dfcol3[-5:-1], dfcol4[-5:-1]):\n",
    "    print(e1, e2)"
   ]
  },
  {
   "cell_type": "code",
   "execution_count": 44,
   "metadata": {},
   "outputs": [],
   "source": [
    "driver.quit()"
   ]
  },
  {
   "cell_type": "code",
   "execution_count": null,
   "metadata": {},
   "outputs": [],
   "source": []
  }
 ],
 "metadata": {
  "kernelspec": {
   "display_name": "Python 3",
   "language": "python",
   "name": "python3"
  },
  "language_info": {
   "codemirror_mode": {
    "name": "ipython",
    "version": 3
   },
   "file_extension": ".py",
   "mimetype": "text/x-python",
   "name": "python",
   "nbconvert_exporter": "python",
   "pygments_lexer": "ipython3",
   "version": "3.11.4"
  },
  "orig_nbformat": 4
 },
 "nbformat": 4,
 "nbformat_minor": 2
}
