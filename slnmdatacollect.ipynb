{
 "cells": [
  {
   "cell_type": "code",
   "execution_count": 76,
   "metadata": {},
   "outputs": [],
   "source": [
    "from selenium import webdriver\n",
    "from selenium.webdriver.common.by import By\n",
    "import numpy as np"
   ]
  },
  {
   "cell_type": "code",
   "execution_count": 77,
   "metadata": {},
   "outputs": [],
   "source": [
    "driver = webdriver.Chrome()"
   ]
  },
  {
   "cell_type": "code",
   "execution_count": 78,
   "metadata": {},
   "outputs": [],
   "source": [
    "driver.get(\"https://www.playbill.com/production/gross?production=00000150-aea5-d936-a7fd-eef572240001\")"
   ]
  },
  {
   "cell_type": "code",
   "execution_count": 79,
   "metadata": {},
   "outputs": [],
   "source": [
    "col0 = driver.find_elements(by = By.CLASS_NAME, value = \"col-0\")\n",
    "col1 = driver.find_elements(by = By.CLASS_NAME, value = \"col-3\")\n",
    "col2 = driver.find_elements(by = By.CLASS_NAME, value = \"col-4\")\n",
    "col3 = driver.find_elements(by = By.CLASS_NAME, value = \"col-6\")"
   ]
  },
  {
   "cell_type": "code",
   "execution_count": 80,
   "metadata": {},
   "outputs": [],
   "source": [
    "def check_elements(iter1):\n",
    "    for e in iter1:\n",
    "        print(e.text)\n",
    "    print(len(iter1))"
   ]
  },
  {
   "cell_type": "code",
   "execution_count": 63,
   "metadata": {},
   "outputs": [],
   "source": [
    "# # For checking the structuring of the elements which have been scraped\n",
    "# check_elements(col0)\n",
    "# check_elements(col1[1:])\n",
    "# check_elements(col2[1:])\n",
    "# check_elements(col3[1:])"
   ]
  },
  {
   "cell_type": "markdown",
   "metadata": {},
   "source": [
    "Conclusion: \n",
    "1. col0 starts with column name and continues with column values. Can be used as is, except that column header should be sliced out.\n",
    "2. col1 starts with a column name, which is, however, a wrong label for the data, the html source for the website has repeated a class \"col-1\" twice. Thus, the column is actually \"Avg Ticket - Top Ticket\" and the text under it should be split into 2 different columns.\n",
    "3. col2 is similar to col1, and the column name is also wrong, it should be - \"Seats sold - Seats in theatre.\" The second column value is seen to remain mostly constant and might be truncated because it doesn't provide any additional insight.\n",
    "\n",
    "Added Edit:\n",
    "4. col3 is the % of seats filled (% cap), however, is wrongly labelled as perfs."
   ]
  },
  {
   "cell_type": "code",
   "execution_count": 81,
   "metadata": {},
   "outputs": [],
   "source": [
    "i = 1\n",
    "dfcol1 = [] # Avg Ticket\n",
    "dfcol2 = [] # Top Ticket\n",
    "dfcol3 = [] # Seats sold\n",
    "dfcol4 = [] # Seats in theatre\n",
    "for x, y in zip(col1[1:], col2[1:]):\n",
    "    l1, l2 = x.text.split('\\n'), y.text.split('\\n')\n",
    "    dfcol1.append(l1[0])\n",
    "    dfcol2.append(l1[1])\n",
    "    dfcol3.append(l2[0])\n",
    "    dfcol4.append(l2[1])"
   ]
  },
  {
   "cell_type": "code",
   "execution_count": 87,
   "metadata": {},
   "outputs": [],
   "source": [
    "next_page = driver.find_element(by = By.CLASS_NAME, value = \"bsp-pagination-navigate-next\")"
   ]
  },
  {
   "cell_type": "code",
   "execution_count": 88,
   "metadata": {},
   "outputs": [],
   "source": [
    "next_page.click()"
   ]
  },
  {
   "cell_type": "code",
   "execution_count": 89,
   "metadata": {},
   "outputs": [],
   "source": [
    "col0 = driver.find_elements(by = By.CLASS_NAME, value = \"col-0\")\n",
    "col1 = driver.find_elements(by = By.CLASS_NAME, value = \"col-3\")\n",
    "col2 = driver.find_elements(by = By.CLASS_NAME, value = \"col-4\")\n",
    "col3 = driver.find_elements(by = By.CLASS_NAME, value = \"col-6\")"
   ]
  },
  {
   "cell_type": "code",
   "execution_count": null,
   "metadata": {},
   "outputs": [],
   "source": [
    "# For checking the structuring of the elements which have been scraped\n",
    "check_elements(col0)\n",
    "check_elements(col1[1:])\n",
    "check_elements(col2[1:])\n",
    "check_elements(col3[1:])"
   ]
  },
  {
   "cell_type": "code",
   "execution_count": 67,
   "metadata": {},
   "outputs": [],
   "source": [
    "driver.quit()"
   ]
  },
  {
   "cell_type": "code",
   "execution_count": 93,
   "metadata": {},
   "outputs": [],
   "source": [
    "def collect_data(df_list):\n",
    "    dfcol0 = df_list[0] # Week Ending\n",
    "    dfcol1 = df_list[1] # Avg Ticket\n",
    "    dfcol2 = df_list[2] # Top Ticket\n",
    "    dfcol3 = df_list[3] # Seats sold\n",
    "    dfcol4 = df_list[4] # Seats in the Theatre\n",
    "    dfcol5 = df_list[5] # % Cap\n",
    "\n",
    "    driver = webdriver.Chrome()\n",
    "    data_link = \"https://www.playbill.com/production/gross?production=00000150-aea5-d936-a7fd-eef572240001\"\n",
    "    driver.get(data_link)\n",
    "\n",
    "    while (True):\n",
    "        col0 = driver.find_elements(by = By.CLASS_NAME, value = \"col-0\")\n",
    "        col1 = driver.find_elements(by = By.CLASS_NAME, value = \"col-3\")\n",
    "        col2 = driver.find_elements(by = By.CLASS_NAME, value = \"col-4\")\n",
    "        col3 = driver.find_elements(by = By.CLASS_NAME, value = \"col-6\")\n",
    "\n",
    "        for e0, e1, e2, e3 in zip(col0[1:], col1[1:], col2[1:], col3[1:]):\n",
    "            l1 = e1.text.split('\\n')\n",
    "            l2 = e2.text.split('\\n')\n",
    "            dfcol0.append(e0.text)\n",
    "            dfcol1.append(l1[0])\n",
    "            # Top ticket values don't exist for some pages\n",
    "            if (len(l1) == 2):\n",
    "                dfcol2.append(l1[1])\n",
    "            else:\n",
    "                dfcol2.append(np.NaN)\n",
    "            dfcol3.append(l2[0])\n",
    "            dfcol4.append(l2[1])\n",
    "            dfcol5.append(e3.text)\n",
    "\n",
    "        try:\n",
    "            next_page = driver.find_element(by = By.CLASS_NAME, value = \"bsp-pagination-navigate-next\")\n",
    "        except NoSuchElementException:\n",
    "            print(\"Finished collecting data!\")\n",
    "            driver.quit()\n",
    "            break\n",
    "        except Exception as e:\n",
    "            print(f\"An exception {e} occurred, ceasing process.\")\n",
    "            driver.quit()\n",
    "            break\n",
    "        next_page.click()\n",
    "\n",
    "    return df_list\n"
   ]
  },
  {
   "cell_type": "code",
   "execution_count": 94,
   "metadata": {},
   "outputs": [
    {
     "ename": "NameError",
     "evalue": "name 'null' is not defined",
     "output_type": "error",
     "traceback": [
      "\u001b[1;31m---------------------------------------------------------------------------\u001b[0m",
      "\u001b[1;31mNameError\u001b[0m                                 Traceback (most recent call last)",
      "\u001b[1;32md:\\ML\\ML Misc\\Broadway-LionKing-Analysis\\slnmdatacollect.ipynb Cell 15\u001b[0m line \u001b[0;36m2\n\u001b[0;32m      <a href='vscode-notebook-cell:/d%3A/ML/ML%20Misc/Broadway-LionKing-Analysis/slnmdatacollect.ipynb#X24sZmlsZQ%3D%3D?line=0'>1</a>\u001b[0m df_list \u001b[39m=\u001b[39m [[], [], [], [], [], []]\n\u001b[1;32m----> <a href='vscode-notebook-cell:/d%3A/ML/ML%20Misc/Broadway-LionKing-Analysis/slnmdatacollect.ipynb#X24sZmlsZQ%3D%3D?line=1'>2</a>\u001b[0m collect_data(df_list)\n",
      "\u001b[1;32md:\\ML\\ML Misc\\Broadway-LionKing-Analysis\\slnmdatacollect.ipynb Cell 15\u001b[0m line \u001b[0;36m2\n\u001b[0;32m     <a href='vscode-notebook-cell:/d%3A/ML/ML%20Misc/Broadway-LionKing-Analysis/slnmdatacollect.ipynb#X24sZmlsZQ%3D%3D?line=25'>26</a>\u001b[0m     dfcol2\u001b[39m.\u001b[39mappend(l1[\u001b[39m1\u001b[39m])\n\u001b[0;32m     <a href='vscode-notebook-cell:/d%3A/ML/ML%20Misc/Broadway-LionKing-Analysis/slnmdatacollect.ipynb#X24sZmlsZQ%3D%3D?line=26'>27</a>\u001b[0m \u001b[39melse\u001b[39;00m:\n\u001b[1;32m---> <a href='vscode-notebook-cell:/d%3A/ML/ML%20Misc/Broadway-LionKing-Analysis/slnmdatacollect.ipynb#X24sZmlsZQ%3D%3D?line=27'>28</a>\u001b[0m     dfcol2\u001b[39m.\u001b[39mappend(null)\n\u001b[0;32m     <a href='vscode-notebook-cell:/d%3A/ML/ML%20Misc/Broadway-LionKing-Analysis/slnmdatacollect.ipynb#X24sZmlsZQ%3D%3D?line=28'>29</a>\u001b[0m dfcol3\u001b[39m.\u001b[39mappend(l2[\u001b[39m0\u001b[39m])\n\u001b[0;32m     <a href='vscode-notebook-cell:/d%3A/ML/ML%20Misc/Broadway-LionKing-Analysis/slnmdatacollect.ipynb#X24sZmlsZQ%3D%3D?line=29'>30</a>\u001b[0m dfcol4\u001b[39m.\u001b[39mappend(l2[\u001b[39m1\u001b[39m])\n",
      "\u001b[1;31mNameError\u001b[0m: name 'null' is not defined"
     ]
    }
   ],
   "source": [
    "df_list = [[], [], [], [], [], []]\n",
    "collect_data(df_list)"
   ]
  },
  {
   "cell_type": "code",
   "execution_count": null,
   "metadata": {},
   "outputs": [],
   "source": [
    "print(\"Week Endings:\\n\")\n",
    "print(df_list[0][10:17])\n",
    "print(\"Avg Tickets:\\n\")\n",
    "print(df_list[1][10:17])\n",
    "print(\"Top Tickets:\\n\")\n",
    "print(df_list[2][10:17])\n",
    "print(\"Seats sold:\\n\")\n",
    "print(df_list[3][10:17])\n",
    "print(\"Seats in theatre:\\n\")\n",
    "print(df_list[4][10:17])\n",
    "print(\"% Cap:\\n\")\n",
    "print(df_list[5][10:17])"
   ]
  }
 ],
 "metadata": {
  "kernelspec": {
   "display_name": "Python 3",
   "language": "python",
   "name": "python3"
  },
  "language_info": {
   "codemirror_mode": {
    "name": "ipython",
    "version": 3
   },
   "file_extension": ".py",
   "mimetype": "text/x-python",
   "name": "python",
   "nbconvert_exporter": "python",
   "pygments_lexer": "ipython3",
   "version": "3.11.4"
  },
  "orig_nbformat": 4
 },
 "nbformat": 4,
 "nbformat_minor": 2
}
